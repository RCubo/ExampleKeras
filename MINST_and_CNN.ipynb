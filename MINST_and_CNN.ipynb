{
 "cells": [
  {
   "cell_type": "code",
   "execution_count": null,
   "metadata": {
    "collapsed": false
   },
   "outputs": [],
   "source": [
    "import numpy as np\n",
    "import pandas as pd\n",
    "import matplotlib.pyplot as plt\n",
    "import matplotlib.cm as cm\n",
    "from keras.layers import Input, Dense, Flatten, Dropout, Activation, Convolution2D, MaxPooling2D\n",
    "from keras.preprocessing.image import ImageDataGenerator\n",
    "from keras.utils import np_utils\n",
    "from keras.models import Model, model_from_json\n",
    "from keras.regularizers import l2, activity_l2\n",
    "from keras.callbacks import ReduceLROnPlateau\n",
    "\n",
    "#Preprocessing of the images\n",
    "input_data = pd.read_csv('MINST/train.csv')\n",
    "raw_images = input_data.iloc[:,1:].values\n",
    "raw_images = raw_images.astype(np.float)\n",
    "\n",
    "#Convert from [0:255] => [0.0:1.0]\n",
    "norm_images = np.multiply(raw_images, 1.0 / 255.0)"
   ]
  },
  {
   "cell_type": "code",
   "execution_count": null,
   "metadata": {
    "collapsed": false
   },
   "outputs": [],
   "source": [
    "#Images are stored as 1-D vector\n",
    "print norm_images.shape"
   ]
  },
  {
   "cell_type": "code",
   "execution_count": null,
   "metadata": {
    "collapsed": false
   },
   "outputs": [],
   "source": [
    "#Resize input images to ROWS X COLUMNS format to be used as input for a Convolution2D\n",
    "ROWS = 28\n",
    "COLUMNS = 28\n",
    "resized_images = []\n",
    "for k in range(0,norm_images.shape[0]):\n",
    "    resized_images.append(norm_images[k].reshape(ROWS,COLUMNS,1))\n",
    "resized_images = np.array(resized_images)\n",
    "print resized_images.shape"
   ]
  },
  {
   "cell_type": "code",
   "execution_count": null,
   "metadata": {
    "collapsed": false,
    "scrolled": true
   },
   "outputs": [],
   "source": [
    "#Test of a random resized image\n",
    "#plt.axis('off')\n",
    "#plt.imshow(resized_images[1], cmap=cm.binary)\n",
    "#plt.show()"
   ]
  },
  {
   "cell_type": "code",
   "execution_count": null,
   "metadata": {
    "collapsed": false
   },
   "outputs": [],
   "source": [
    "#Preprocessing of the labels\n",
    "raw_labels = input_data.iloc[:,0].values\n",
    "raw_labels = raw_labels.astype(np.float)\n",
    "\n",
    "print raw_labels.shape"
   ]
  },
  {
   "cell_type": "code",
   "execution_count": null,
   "metadata": {
    "collapsed": false
   },
   "outputs": [],
   "source": [
    "#Example of one of the labels and the maximum and minimum\n",
    "print raw_labels[1]\n",
    "print np.amax(raw_labels)\n",
    "print np.amin(raw_labels)"
   ]
  },
  {
   "cell_type": "code",
   "execution_count": 7,
   "metadata": {
    "collapsed": false
   },
   "outputs": [],
   "source": [
    "#Convert labels into vector of categories. Class 0 = digit 0... class 9 = digi9\n",
    "nb_classes = 10\n",
    "cat_labels = np_utils.to_categorical(raw_labels, nb_classes)\n",
    "print cat_labels[1]\n"
   ]
  },
  {
   "cell_type": "markdown",
   "metadata": {},
   "source": [
    "# Splitting between training and validation"
   ]
  },
  {
   "cell_type": "code",
   "execution_count": 8,
   "metadata": {
    "collapsed": false
   },
   "outputs": [
    {
     "name": "stdout",
     "output_type": "stream",
     "text": [
      "(41579, 28, 28, 1)\n",
      "(41579, 10)\n",
      "(421, 28, 28, 1)\n",
      "(421, 10)\n",
      "42000\n"
     ]
    }
   ],
   "source": [
    "#Shuffling dataset and splling between training and validation with fraction train_frac\n",
    "from sklearn.utils import shuffle\n",
    "shuffled_resized_images, shuffled_cat_labels = shuffle(resized_images, cat_labels, random_state=0)\n",
    "train_frac = 0.99\n",
    "\n",
    "Xtrain = shuffled_resized_images[1:int(shuffled_resized_images.shape[0]*train_frac)]\n",
    "Ytrain = shuffled_cat_labels[1:int(shuffled_resized_images.shape[0]*train_frac)]\n",
    "\n",
    "Xval = shuffled_resized_images[Xtrain.shape[0]:]\n",
    "Yval = shuffled_cat_labels[Ytrain.shape[0]:]\n",
    "\n",
    "\n",
    "print Xtrain.shape\n",
    "print Ytrain.shape\n",
    "print Xval.shape\n",
    "print Yval.shape\n",
    "print Xtrain.shape[0]+Xval.shape[0]"
   ]
  },
  {
   "cell_type": "markdown",
   "metadata": {},
   "source": [
    "# ConvNN architecture"
   ]
  },
  {
   "cell_type": "code",
   "execution_count": 9,
   "metadata": {
    "collapsed": false
   },
   "outputs": [
    {
     "name": "stdout",
     "output_type": "stream",
     "text": [
      "____________________________________________________________________________________________________\n",
      "Layer (type)                     Output Shape          Param #     Connected to                     \n",
      "====================================================================================================\n",
      "input_1 (InputLayer)             (None, 28, 28, 1)     0                                            \n",
      "____________________________________________________________________________________________________\n",
      "convolution2d_1 (Convolution2D)  (None, 28, 28, 32)    320         input_1[0][0]                    \n",
      "____________________________________________________________________________________________________\n",
      "maxpooling2d_1 (MaxPooling2D)    (None, 14, 14, 32)    0           convolution2d_1[0][0]            \n",
      "____________________________________________________________________________________________________\n",
      "dropout_1 (Dropout)              (None, 14, 14, 32)    0           maxpooling2d_1[0][0]             \n",
      "____________________________________________________________________________________________________\n",
      "convolution2d_2 (Convolution2D)  (None, 14, 14, 64)    18496       dropout_1[0][0]                  \n",
      "____________________________________________________________________________________________________\n",
      "maxpooling2d_2 (MaxPooling2D)    (None, 7, 7, 64)      0           convolution2d_2[0][0]            \n",
      "____________________________________________________________________________________________________\n",
      "flatten_1 (Flatten)              (None, 3136)          0           maxpooling2d_2[0][0]             \n",
      "____________________________________________________________________________________________________\n",
      "dense_1 (Dense)                  (None, 32)            100384      flatten_1[0][0]                  \n",
      "____________________________________________________________________________________________________\n",
      "dense_2 (Dense)                  (None, 10)            330         dense_1[0][0]                    \n",
      "====================================================================================================\n",
      "Total params: 119,530\n",
      "Trainable params: 119,530\n",
      "Non-trainable params: 0\n",
      "____________________________________________________________________________________________________\n"
     ]
    }
   ],
   "source": [
    "#Model Parameters\n",
    "batch_size = 32 # in each iteration, we consider batch_size training examples at once\n",
    "num_epochs = 60 # we iterate n_epoch times over the entire training set\n",
    "kernel_size = 3 # we will use kernel_size x kernel_size filters throughout\n",
    "pool_size = 2 # we will use 2x2 (max)pooling throughout\n",
    "conv_depth_1 = 32 # we will initially have 32 kernels per conv. layer...\n",
    "conv_depth_2 = 64 # ...switching to 64 after the first pooling layer\n",
    "conv_depth_3 = 128 # ...switching to 64 after the second pooling layer\n",
    "drop_prob_1 = 0.25 # dropout after pooling with probability 0.25\n",
    "drop_prob_2 = 0.5 # dropout in the FC layer with probability 0.5\n",
    "hidden_size = 32 # the FC layer will have hidden_size neurons\n",
    "data_augmentation = False # Whether to use or not data augmentation\n",
    "\n",
    "#Architecture\n",
    "inp = Input(shape=(ROWS, COLUMNS,1)) \n",
    "# Conv [32] -> Conv [32] -> Pool (with dropout on the pooling layer)\n",
    "#conv_1 = Convolution2D(conv_depth_1, kernel_size, kernel_size, border_mode='same', activation='relu')(inp)\n",
    "conv_1 = Convolution2D(conv_depth_1, kernel_size, kernel_size, border_mode='same', activation='relu')(inp)\n",
    "pool_1 = MaxPooling2D(pool_size=(pool_size, pool_size))(conv_1)\n",
    "drop_1 = Dropout(drop_prob_1)(pool_1)\n",
    "conv_2 = Convolution2D(conv_depth_2, kernel_size, kernel_size, border_mode='same', activation='relu')(drop_1)\n",
    "pool_2 = MaxPooling2D(pool_size=(pool_size, pool_size))(conv_2)\n",
    "conv_3 = Convolution2D(conv_depth_3, kernel_size, kernel_size, border_mode='same', activation='relu')(pool_2)\n",
    "#drop_1 = Dropout(drop_prob_1)(pool_1)\n",
    "# Conv [64] -> Conv [64] -> Pool (with dropout on the pooling layer)\n",
    "#conv_3 = Convolution2D(conv_depth_2, kernel_size, kernel_size, border_mode='same', activation='relu')(drop_1)\n",
    "#conv_4 = Convolution2D(conv_depth_2, kernel_size, kernel_size, border_mode='same', activation='relu')(conv_3)\n",
    "#pool_2 = MaxPooling2D(pool_size=(pool_size, pool_size))(conv_4)\n",
    "#drop_2 = Dropout(drop_prob_1)(pool_2)\n",
    "# Now flatten to 1D, apply FC -> ReLU (with dropout) -> softmax\n",
    "#flat = Flatten()(drop_2)\n",
    "flat = Flatten()(pool_2)\n",
    "hidden = Dense(hidden_size, activation='relu')(flat)\n",
    "#hidden = Dense(hidden_size, W_regularizer=l2(0.01), activity_regularizer=activity_l2(0.01), activation='relu')(flat)\n",
    "drop_1 = Dropout(drop_prob_1)(hidden)\n",
    "#out = Dense(num_classes, activation='softmax')(drop_3)\n",
    "out = Dense(nb_classes, activation='softmax')(hidden)\n",
    "model = Model(input=inp, output=out) # To define a model, just specify its input and output layers\n",
    "\n",
    "#print the summary of the architecture\n",
    "model.summary()\n",
    "\n",
    "#Visulize the model if desired\n",
    "from keras.utils.visualize_util import plot\n",
    "plot(model, to_file='Example_of_CNN_MINST.pdf')\n",
    "\n",
    "# reduce the learning rate by factor of 0.5 if the validation loss does not get lower in 7 epochs\n",
    "reduce_lr = ReduceLROnPlateau(monitor='val_loss', factor=0.5, patience=6, min_lr=0.0000001, verbose=1)"
   ]
  },
  {
   "cell_type": "code",
   "execution_count": 10,
   "metadata": {
    "collapsed": false
   },
   "outputs": [
    {
     "name": "stdout",
     "output_type": "stream",
     "text": [
      "Not using data augmentation.\n",
      "Train on 41579 samples, validate on 421 samples\n",
      "Epoch 1/60\n",
      "41579/41579 [==============================] - 84s - loss: 0.1928 - acc: 0.9414 - val_loss: 0.1042 - val_acc: 0.9715\n",
      "Epoch 2/60\n",
      "41579/41579 [==============================] - 86s - loss: 0.0790 - acc: 0.9766 - val_loss: 0.0880 - val_acc: 0.9691\n",
      "Epoch 3/60\n",
      "41579/41579 [==============================] - 81s - loss: 0.0634 - acc: 0.9810 - val_loss: 0.0659 - val_acc: 0.9739\n",
      "Epoch 4/60\n",
      "41579/41579 [==============================] - 85s - loss: 0.0543 - acc: 0.9838 - val_loss: 0.0581 - val_acc: 0.9739\n",
      "Epoch 5/60\n",
      "41579/41579 [==============================] - 85s - loss: 0.0478 - acc: 0.9848 - val_loss: 0.0611 - val_acc: 0.9786\n",
      "Epoch 6/60\n",
      "41579/41579 [==============================] - 90s - loss: 0.0445 - acc: 0.9863 - val_loss: 0.0550 - val_acc: 0.9762\n",
      "Epoch 7/60\n",
      "41579/41579 [==============================] - 86s - loss: 0.0416 - acc: 0.9876 - val_loss: 0.0477 - val_acc: 0.9810\n",
      "Epoch 8/60\n",
      "41579/41579 [==============================] - 80s - loss: 0.0390 - acc: 0.9885 - val_loss: 0.0521 - val_acc: 0.9834\n",
      "Epoch 9/60\n",
      "41579/41579 [==============================] - 80s - loss: 0.0361 - acc: 0.9891 - val_loss: 0.0570 - val_acc: 0.9762\n",
      "Epoch 10/60\n",
      "41579/41579 [==============================] - 80s - loss: 0.0345 - acc: 0.9896 - val_loss: 0.0441 - val_acc: 0.9834\n",
      "Epoch 11/60\n",
      "41579/41579 [==============================] - 85s - loss: 0.0326 - acc: 0.9899 - val_loss: 0.0441 - val_acc: 0.9857\n",
      "Epoch 12/60\n",
      "41579/41579 [==============================] - 82s - loss: 0.0320 - acc: 0.9905 - val_loss: 0.0432 - val_acc: 0.9857\n",
      "Epoch 13/60\n",
      "41579/41579 [==============================] - 81s - loss: 0.0297 - acc: 0.9908 - val_loss: 0.0439 - val_acc: 0.9834\n",
      "Epoch 14/60\n",
      "41579/41579 [==============================] - 85s - loss: 0.0287 - acc: 0.9914 - val_loss: 0.0431 - val_acc: 0.9810\n",
      "Epoch 15/60\n",
      "41579/41579 [==============================] - 96s - loss: 0.0273 - acc: 0.9917 - val_loss: 0.0475 - val_acc: 0.9834\n",
      "Epoch 16/60\n",
      "41579/41579 [==============================] - 98s - loss: 0.0260 - acc: 0.9921 - val_loss: 0.0444 - val_acc: 0.9834\n",
      "Epoch 17/60\n",
      "41579/41579 [==============================] - 91s - loss: 0.0261 - acc: 0.9914 - val_loss: 0.0470 - val_acc: 0.9834\n",
      "Epoch 18/60\n",
      "41579/41579 [==============================] - 102s - loss: 0.0247 - acc: 0.9925 - val_loss: 0.0405 - val_acc: 0.9834\n",
      "Epoch 19/60\n",
      "41579/41579 [==============================] - 111s - loss: 0.0244 - acc: 0.9927 - val_loss: 0.0480 - val_acc: 0.9810\n",
      "Epoch 20/60\n",
      "41579/41579 [==============================] - 111s - loss: 0.0229 - acc: 0.9932 - val_loss: 0.0464 - val_acc: 0.9810\n",
      "Epoch 21/60\n",
      "41579/41579 [==============================] - 86s - loss: 0.0225 - acc: 0.9931 - val_loss: 0.0425 - val_acc: 0.9834\n",
      "Epoch 22/60\n",
      "41579/41579 [==============================] - 87s - loss: 0.0216 - acc: 0.9934 - val_loss: 0.0462 - val_acc: 0.9834\n",
      "Epoch 23/60\n",
      "41579/41579 [==============================] - 96s - loss: 0.0210 - acc: 0.9936 - val_loss: 0.0533 - val_acc: 0.9786\n",
      "Epoch 24/60\n",
      "41579/41579 [==============================] - 94s - loss: 0.0198 - acc: 0.9937 - val_loss: 0.0548 - val_acc: 0.9762\n",
      "Epoch 25/60\n",
      "41568/41579 [============================>.] - ETA: 0s - loss: 0.0198 - acc: 0.9938\n",
      "Epoch 00024: reducing learning rate to 0.00499999988824.\n",
      "41579/41579 [==============================] - 85s - loss: 0.0198 - acc: 0.9938 - val_loss: 0.0430 - val_acc: 0.9881\n",
      "Epoch 26/60\n",
      "41579/41579 [==============================] - 85s - loss: 0.0182 - acc: 0.9947 - val_loss: 0.0493 - val_acc: 0.9786\n",
      "Epoch 27/60\n",
      "41579/41579 [==============================] - 86s - loss: 0.0174 - acc: 0.9950 - val_loss: 0.0525 - val_acc: 0.9786\n",
      "Epoch 28/60\n",
      "41579/41579 [==============================] - 94s - loss: 0.0181 - acc: 0.9942 - val_loss: 0.0501 - val_acc: 0.9810\n",
      "Epoch 29/60\n",
      "41579/41579 [==============================] - 95s - loss: 0.0179 - acc: 0.9947 - val_loss: 0.0503 - val_acc: 0.9786\n",
      "Epoch 30/60\n",
      "41579/41579 [==============================] - 85s - loss: 0.0170 - acc: 0.9952 - val_loss: 0.0499 - val_acc: 0.9810\n",
      "Epoch 31/60\n",
      "41568/41579 [============================>.] - ETA: 0s - loss: 0.0178 - acc: 0.9944\n",
      "Epoch 00030: reducing learning rate to 0.00249999994412.\n",
      "41579/41579 [==============================] - 82s - loss: 0.0179 - acc: 0.9944 - val_loss: 0.0440 - val_acc: 0.9810\n",
      "Epoch 32/60\n",
      "41579/41579 [==============================] - 89s - loss: 0.0162 - acc: 0.9956 - val_loss: 0.0475 - val_acc: 0.9786\n",
      "Epoch 33/60\n",
      "41579/41579 [==============================] - 90s - loss: 0.0167 - acc: 0.9955 - val_loss: 0.0494 - val_acc: 0.9762\n",
      "Epoch 34/60\n",
      "41579/41579 [==============================] - 85s - loss: 0.0163 - acc: 0.9953 - val_loss: 0.0494 - val_acc: 0.9786\n",
      "Epoch 35/60\n",
      "41579/41579 [==============================] - 82s - loss: 0.0162 - acc: 0.9954 - val_loss: 0.0482 - val_acc: 0.9786\n",
      "Epoch 36/60\n",
      "41579/41579 [==============================] - 85s - loss: 0.0155 - acc: 0.9959 - val_loss: 0.0498 - val_acc: 0.9786\n",
      "Epoch 37/60\n",
      "41568/41579 [============================>.] - ETA: 0s - loss: 0.0156 - acc: 0.9958\n",
      "Epoch 00036: reducing learning rate to 0.00124999997206.\n",
      "41579/41579 [==============================] - 86s - loss: 0.0156 - acc: 0.9958 - val_loss: 0.0489 - val_acc: 0.9762\n",
      "Epoch 38/60\n",
      "41579/41579 [==============================] - 86s - loss: 0.0158 - acc: 0.9955 - val_loss: 0.0502 - val_acc: 0.9762\n",
      "Epoch 39/60\n",
      "41579/41579 [==============================] - 86s - loss: 0.0151 - acc: 0.9961 - val_loss: 0.0493 - val_acc: 0.9762\n",
      "Epoch 40/60\n",
      "41579/41579 [==============================] - 86s - loss: 0.0158 - acc: 0.9950 - val_loss: 0.0509 - val_acc: 0.9762\n",
      "Epoch 41/60\n",
      "41579/41579 [==============================] - 85s - loss: 0.0157 - acc: 0.9956 - val_loss: 0.0489 - val_acc: 0.9786\n",
      "Epoch 42/60\n",
      "41579/41579 [==============================] - 86s - loss: 0.0157 - acc: 0.9957 - val_loss: 0.0506 - val_acc: 0.9786\n",
      "Epoch 43/60\n",
      "41568/41579 [============================>.] - ETA: 0s - loss: 0.0151 - acc: 0.9956\n",
      "Epoch 00042: reducing learning rate to 0.00062499998603.\n",
      "41579/41579 [==============================] - 86s - loss: 0.0151 - acc: 0.9956 - val_loss: 0.0509 - val_acc: 0.9786\n",
      "Epoch 44/60\n",
      "41579/41579 [==============================] - 90s - loss: 0.0148 - acc: 0.9958 - val_loss: 0.0500 - val_acc: 0.9762\n",
      "Epoch 45/60\n",
      "41579/41579 [==============================] - 95s - loss: 0.0153 - acc: 0.9954 - val_loss: 0.0505 - val_acc: 0.9762\n",
      "Epoch 46/60\n",
      "41579/41579 [==============================] - 82s - loss: 0.0152 - acc: 0.9956 - val_loss: 0.0495 - val_acc: 0.9786\n",
      "Epoch 47/60\n",
      "41579/41579 [==============================] - 85s - loss: 0.0147 - acc: 0.9959 - val_loss: 0.0498 - val_acc: 0.9786\n",
      "Epoch 48/60\n",
      "41579/41579 [==============================] - 82s - loss: 0.0152 - acc: 0.9957 - val_loss: 0.0495 - val_acc: 0.9786\n",
      "Epoch 49/60\n",
      "41568/41579 [============================>.] - ETA: 0s - loss: 0.0155 - acc: 0.9955\n",
      "Epoch 00048: reducing learning rate to 0.000312499993015.\n",
      "41579/41579 [==============================] - 82s - loss: 0.0155 - acc: 0.9955 - val_loss: 0.0494 - val_acc: 0.9786\n",
      "Epoch 50/60\n",
      "41579/41579 [==============================] - 85s - loss: 0.0148 - acc: 0.9958 - val_loss: 0.0494 - val_acc: 0.9786\n",
      "Epoch 51/60\n",
      "41579/41579 [==============================] - 83s - loss: 0.0151 - acc: 0.9957 - val_loss: 0.0493 - val_acc: 0.9786\n",
      "Epoch 52/60\n",
      "41579/41579 [==============================] - 84s - loss: 0.0149 - acc: 0.9956 - val_loss: 0.0496 - val_acc: 0.9786\n",
      "Epoch 53/60\n",
      "41579/41579 [==============================] - 87s - loss: 0.0145 - acc: 0.9961 - val_loss: 0.0495 - val_acc: 0.9786\n",
      "Epoch 54/60\n",
      "41579/41579 [==============================] - 89s - loss: 0.0154 - acc: 0.9955 - val_loss: 0.0497 - val_acc: 0.9786\n",
      "Epoch 55/60\n",
      "41568/41579 [============================>.] - ETA: 0s - loss: 0.0151 - acc: 0.9956\n",
      "Epoch 00054: reducing learning rate to 0.000156249996508.\n",
      "41579/41579 [==============================] - 88s - loss: 0.0151 - acc: 0.9956 - val_loss: 0.0495 - val_acc: 0.9786\n",
      "Epoch 56/60\n",
      "41579/41579 [==============================] - 91s - loss: 0.0151 - acc: 0.9955 - val_loss: 0.0495 - val_acc: 0.9786\n",
      "Epoch 57/60\n",
      "41579/41579 [==============================] - 91s - loss: 0.0145 - acc: 0.9958 - val_loss: 0.0495 - val_acc: 0.9786\n",
      "Epoch 58/60\n",
      "41579/41579 [==============================] - 86s - loss: 0.0148 - acc: 0.9960 - val_loss: 0.0494 - val_acc: 0.9786\n",
      "Epoch 59/60\n",
      "41579/41579 [==============================] - 98s - loss: 0.0144 - acc: 0.9957 - val_loss: 0.0493 - val_acc: 0.9786\n",
      "Epoch 60/60\n",
      "41579/41579 [==============================] - 98s - loss: 0.0146 - acc: 0.9959 - val_loss: 0.0492 - val_acc: 0.9786\n"
     ]
    }
   ],
   "source": [
    "# Let's train the model using SGD without data augmentation\n",
    "#model.compile(loss='categorical_crossentropy', optimizer='sgd', metrics=['accuracy'])\n",
    "#For future testing...\n",
    "#model.compile(loss='categorical_crossentropy', optimizer='adadelta', metrics=['accuracy']) \n",
    "#model.compile(loss='categorical_crossentropy', optimizer='rmpsprop', metrics=['accuracy'])\n",
    "#model.compile(loss='categorical_crossentropy', optimizer='adam', metrics=['accuracy'])\n",
    "model.compile(loss='categorical_crossentropy', optimizer='adagrad', metrics=['accuracy'])\n",
    "\n",
    "\n",
    "# Let's train the SGD model WITHOUT using data augmentation\n",
    "if not data_augmentation:\n",
    "    print('Not using data augmentation.')\n",
    "    history = model.fit(Xtrain, Ytrain, batch_size=batch_size, nb_epoch=num_epochs,\n",
    "          validation_data=(Xval, Yval), shuffle=True, callbacks=[reduce_lr])\n",
    "\n",
    "# Let's train the SGD model using data augmentation\n",
    "else:\n",
    "    print('Using real-time data augmentation.')\n",
    "    #See http://machinelearningmastery.com/image-augmentation-deep-learning-keras/ for the infividual\n",
    "    #effects of each parameter in ImageDataGenerator\n",
    "    datagen = ImageDataGenerator(\n",
    "        featurewise_center=False,  # set input mean to 0 over the dataset\n",
    "        samplewise_center=False,  # set each sample mean to 0\n",
    "        featurewise_std_normalization=False,  # divide inputs by std of the dataset\n",
    "        samplewise_std_normalization=False,  # divide each input by its std\n",
    "        zca_whitening=True, # apply ZCA whitening\n",
    "        #zoom_range=0.1\n",
    "        #Not really needed for MINST because images are centerd\n",
    "        #rotation_range=20,   \n",
    "        #width_shift_range=0.2,\n",
    "        #height_shift_range=0.2,\n",
    "    )\n",
    "    # Compute quantities required for featurewise normalization\n",
    "    # (std, mean, and principal components if ZCA whitening is applied).\n",
    "    datagen.fit(Xtrain)\n",
    "    \n",
    "    # Fit the model on the batches generated by datagen.flow().\n",
    "    history = model.fit_generator(datagen.flow(Xtrain, Ytrain,\n",
    "                        batch_size=batch_size),\n",
    "                        samples_per_epoch=Xtrain.shape[0], #For each epoch generate Xtrain.shape[0] new images for training\n",
    "                        nb_epoch=num_epochs,\n",
    "                        validation_data=(Xval, Yval),\n",
    "                        #validation_data=(Xtrain, Ytrain),\n",
    "                        callbacks=[reduce_lr]\n",
    "                       )"
   ]
  },
  {
   "cell_type": "markdown",
   "metadata": {},
   "source": [
    "# Record\n",
    "Best acc in validation set is 0.9855 and train 0.9910"
   ]
  },
  {
   "cell_type": "markdown",
   "metadata": {},
   "source": [
    "# Learning rate"
   ]
  },
  {
   "cell_type": "code",
   "execution_count": 11,
   "metadata": {
    "collapsed": false
   },
   "outputs": [
    {
     "name": "stdout",
     "output_type": "stream",
     "text": [
      "['acc', 'loss', 'val_acc', 'val_loss', 'lr']\n"
     ]
    },
    {
     "data": {
      "image/png": "[encoded data removed]",
      "text/plain": [
       "<matplotlib.figure.Figure at 0x7f7f2089ab50>"
      ]
     },
     "metadata": {},
     "output_type": "display_data"
    }
   ],
   "source": [
    "# list all data in history\n",
    "print(history.history.keys())\n",
    "\n",
    "# summarize history for accuracy\n",
    "plt.plot(history.history['acc'])\n",
    "plt.plot(history.history['val_acc'])\n",
    "plt.title('model accuracy')\n",
    "plt.ylabel('accuracy')\n",
    "plt.xlabel('epoch')\n",
    "plt.legend(['train', 'test'], loc='upper left')\n",
    "plt.show()\n",
    "plt.savefig('Accuracy_MINST.pdf')\n",
    "plt.close()"
   ]
  },
  {
   "cell_type": "code",
   "execution_count": 12,
   "metadata": {
    "collapsed": false
   },
   "outputs": [
    {
     "data": {
      "image/png": "[encoded data removed]",
      "text/plain": [
       "<matplotlib.figure.Figure at 0x7f7ecd1a58d0>"
      ]
     },
     "metadata": {},
     "output_type": "display_data"
    }
   ],
   "source": [
    "# summarize history for loss\n",
    "plt.plot(history.history['loss'])\n",
    "plt.plot(history.history['val_loss'])\n",
    "plt.title('model loss')\n",
    "plt.ylabel('loss')\n",
    "plt.xlabel('epoch')\n",
    "plt.legend(['train', 'test'], loc='upper left')\n",
    "plt.show()\n",
    "plt.savefig('Loss_MINST.pdf')\n",
    "plt.close()"
   ]
  },
  {
   "cell_type": "markdown",
   "metadata": {},
   "source": [
    "# Save the trained model for future usage"
   ]
  },
  {
   "cell_type": "code",
   "execution_count": 13,
   "metadata": {
    "collapsed": false
   },
   "outputs": [
    {
     "name": "stdout",
     "output_type": "stream",
     "text": [
      "Saved model to disk\n"
     ]
    }
   ],
   "source": [
    "# serialize model to JSON\n",
    "model_json = model.to_json()\n",
    "with open(\"Example_ConvNN_MINST.json\", \"w\") as json_file:\n",
    "    json_file.write(model_json)\n",
    "# serialize weights to HDF5\n",
    "model.save_weights(\"Example_ConvNN_MINST.h5\")\n",
    "print(\"Saved model to disk\")"
   ]
  },
  {
   "cell_type": "markdown",
   "metadata": {},
   "source": [
    "# Load the model and re-test the performance in train and validation datasets"
   ]
  },
  {
   "cell_type": "code",
   "execution_count": 14,
   "metadata": {
    "collapsed": false
   },
   "outputs": [
    {
     "name": "stdout",
     "output_type": "stream",
     "text": [
      "Loaded model from disk\n",
      "acc: 99.75%\n",
      "acc: 99.75%\n"
     ]
    }
   ],
   "source": [
    "# load json and create model\n",
    "json_file = open(\"Example_ConvNN_MINST.json\", \"r\")\n",
    "loaded_model_json = json_file.read()\n",
    "json_file.close()\n",
    "loaded_model = model_from_json(loaded_model_json)\n",
    "# load weights into new model\n",
    "loaded_model.load_weights(\"Example_ConvNN_MINST.h5\")\n",
    "print(\"Loaded model from disk\")\n",
    " \n",
    "# evaluate loaded model on  data\n",
    "loaded_model.compile(loss='categorical_crossentropy', optimizer='sgd', metrics=['accuracy'])\n",
    "score_train = loaded_model.evaluate(Xtrain, Ytrain, verbose=0)\n",
    "score_val = loaded_model.evaluate(Xtrain, Ytrain, verbose=0)\n",
    "print \"%s: %.2f%%\" % (loaded_model.metrics_names[1], score_train[1]*100)\n",
    "print \"%s: %.2f%%\" % (loaded_model.metrics_names[1], score_val[1]*100)"
   ]
  },
  {
   "cell_type": "markdown",
   "metadata": {},
   "source": [
    "# Predictions in new and unlabelled data"
   ]
  },
  {
   "cell_type": "code",
   "execution_count": 15,
   "metadata": {
    "collapsed": false
   },
   "outputs": [
    {
     "name": "stdout",
     "output_type": "stream",
     "text": [
      "(28000, 784)\n",
      "(28000, 28, 28, 1)\n",
      "(28000, 10)\n",
      "[  6.86090004e-11   4.70638314e-15   1.00000000e+00   3.38862029e-11\n",
      "   1.98752297e-16   1.51582285e-15   3.06457740e-18   1.72751158e-12\n",
      "   1.44540456e-11   1.10632613e-13]\n",
      "2\n",
      "Predictions Ready\n"
     ]
    }
   ],
   "source": [
    "#Preprocessing of the images\n",
    "test_data = pd.read_csv('MINST/test.csv')\n",
    "test_images = test_data.iloc[:,:].values\n",
    "test_images = test_images.astype(np.float)\n",
    "\n",
    "#Convert from [0:255] => [0.0:1.0]\n",
    "norm_test_images = np.multiply(test_images, 1.0 / 255.0)\n",
    "print norm_test_images.shape\n",
    "\n",
    "#Resize input images to ROWS X COLUMNS format to be used as input for a Convolution2D\n",
    "resized_test_images = []\n",
    "for k in range(0,norm_test_images.shape[0]):\n",
    "    resized_test_images.append(norm_test_images[k].reshape(ROWS,COLUMNS,1))\n",
    "resized_test_images = np.array(resized_test_images)\n",
    "print resized_test_images.shape\n",
    "\n",
    "#Make predictions\n",
    "test_pred_prob = model.predict(resized_test_images)\n",
    "print test_pred_prob.shape\n",
    "print test_pred_prob[0]\n",
    "\n",
    "#Select the classes with highest probabilities as class predictions\n",
    "test_pred = np.argmax(test_pred_prob, axis=1)\n",
    "print test_pred[0]\n",
    "\n",
    "#Save the predictions\n",
    "from datetime import datetime\n",
    "np.savetxt('mnist-predictions-ConvNN%s.csv' % datetime.now().strftime('%Y-%m-%d_%H%M'), np.c_[range(1, len(test_pred) + 1), test_pred], delimiter = ',', header = 'ImageId,Label', comments = '', fmt='%d')\n",
    "print(\"Predictions Ready\")"
   ]
  }
 ],
 "metadata": {
  "kernelspec": {
   "display_name": "Python 2",
   "language": "python",
   "name": "python2"
  },
  "language_info": {
   "codemirror_mode": {
    "name": "ipython",
    "version": 2
   },
   "file_extension": ".py",
   "mimetype": "text/x-python",
   "name": "python",
   "nbconvert_exporter": "python",
   "pygments_lexer": "ipython2",
   "version": "2.7.12"
  }
 },
 "nbformat": 4,
 "nbformat_minor": 2
}
