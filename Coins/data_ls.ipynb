{
 "cells": [
  {
   "cell_type": "code",
   "execution_count": 15,
   "metadata": {
    "collapsed": false
   },
   "outputs": [
    {
     "name": "stdout",
     "output_type": "stream",
     "text": [
      "                                 FileName  CoinorNoCoin  Group  CoinType\n",
      "0     IMG_20170128_133928_Candidate_1.jpg             0      0         0\n",
      "1     IMG_20170128_133928_Candidate_2.jpg             0      0         0\n",
      "2     IMG_20170128_133928_Candidate_3.jpg             0      0         0\n",
      "3     IMG_20170128_133928_Candidate_4.jpg             0      0         0\n",
      "4     IMG_20170128_133928_Candidate_5.jpg             0      0         0\n",
      "5     IMG_20170128_133947_Candidate_1.jpg             0      0         0\n",
      "6     IMG_20170128_133947_Candidate_2.jpg             0      0         0\n",
      "7     IMG_20170128_133947_Candidate_3.jpg             0      0         0\n",
      "8     IMG_20170128_133947_Candidate_4.jpg             0      0         0\n",
      "9     IMG_20170128_133947_Candidate_5.jpg             0      0         0\n",
      "10    IMG_20170128_133947_Candidate_6.jpg             0      0         0\n",
      "11    IMG_20170128_134009_Candidate_1.jpg             0      0         0\n",
      "12    IMG_20170128_134009_Candidate_2.jpg             0      0         0\n",
      "13    IMG_20170128_134009_Candidate_3.jpg             0      0         0\n",
      "14    IMG_20170128_134009_Candidate_4.jpg             0      0         0\n",
      "15    IMG_20170128_134009_Candidate_5.jpg             0      0         0\n",
      "16    IMG_20170128_134009_Candidate_6.jpg             0      0         0\n",
      "17    IMG_20170128_134036_Candidate_1.jpg             0      0         0\n",
      "18   IMG_20170128_134036_Candidate_10.jpg             0      0         0\n",
      "19    IMG_20170128_134036_Candidate_2.jpg             0      0         0\n",
      "20    IMG_20170128_134036_Candidate_3.jpg             0      0         0\n",
      "21    IMG_20170128_134036_Candidate_4.jpg             0      0         0\n",
      "22    IMG_20170128_134036_Candidate_5.jpg             0      0         0\n",
      "23    IMG_20170128_134036_Candidate_6.jpg             0      0         0\n",
      "24    IMG_20170128_134036_Candidate_7.jpg             0      0         0\n",
      "25    IMG_20170128_134036_Candidate_8.jpg             0      0         0\n",
      "26    IMG_20170128_134036_Candidate_9.jpg             0      0         0\n",
      "27    IMG_20170128_134105_Candidate_1.jpg             0      0         0\n",
      "28    IMG_20170128_134105_Candidate_2.jpg             0      0         0\n",
      "29    IMG_20170128_134105_Candidate_3.jpg             0      0         0\n",
      "..                                    ...           ...    ...       ...\n",
      "279         P70127-164918_Candidate_6.jpg             0      0         0\n",
      "280         P70127-164924_Candidate_1.jpg             0      0         0\n",
      "281         P70127-164924_Candidate_2.jpg             0      0         0\n",
      "282         P70127-164924_Candidate_3.jpg             0      0         0\n",
      "283         P70127-164924_Candidate_4.jpg             0      0         0\n",
      "284         P70127-164928_Candidate_1.jpg             0      0         0\n",
      "285         P70127-164928_Candidate_2.jpg             0      0         0\n",
      "286         P70127-164928_Candidate_3.jpg             0      0         0\n",
      "287         P70127-164935_Candidate_1.jpg             0      0         0\n",
      "288         P70127-164935_Candidate_2.jpg             0      0         0\n",
      "289         P70127-164941_Candidate_1.jpg             0      0         0\n",
      "290         P70127-164941_Candidate_2.jpg             0      0         0\n",
      "291         P70127-164945_Candidate_1.jpg             0      0         0\n",
      "292         P70127-164952_Candidate_1.jpg             0      0         0\n",
      "293         P70127-164954_Candidate_1.jpg             0      0         0\n",
      "294         P70127-165004_Candidate_1.jpg             0      0         0\n",
      "295         P70127-165004_Candidate_2.jpg             0      0         0\n",
      "296         P70127-165004_Candidate_3.jpg             0      0         0\n",
      "297         P70127-165004_Candidate_4.jpg             0      0         0\n",
      "298         P70127-165008_Candidate_1.jpg             0      0         0\n",
      "299         P70127-165008_Candidate_2.jpg             0      0         0\n",
      "300         P70127-165008_Candidate_3.jpg             0      0         0\n",
      "301         P70127-165008_Candidate_4.jpg             0      0         0\n",
      "302         P70127-165008_Candidate_5.jpg             0      0         0\n",
      "303         P70127-165013_Candidate_1.jpg             0      0         0\n",
      "304         P70127-165013_Candidate_2.jpg             0      0         0\n",
      "305         P70127-165013_Candidate_3.jpg             0      0         0\n",
      "306         P70127-165013_Candidate_4.jpg             0      0         0\n",
      "307         P70127-165013_Candidate_5.jpg             0      0         0\n",
      "308         P70127-165013_Candidate_6.jpg             0      0         0\n",
      "\n",
      "[309 rows x 4 columns]\n"
     ]
    }
   ],
   "source": [
    "import pandas as pd\n",
    "import glob\n",
    "\n",
    "InputFolder = \"ProcessedWhiteBackground/WhiteBackground/\"\n",
    "\n",
    "input_file = glob.glob(InputFolder+\"*.jpg\") # Get the coin filenames\n",
    "for k in range(0,len(input_file)):\n",
    "    tmp = input_file[k]\n",
    "    tmp = tmp[41:]\n",
    "    input_file[k] = tmp\n",
    "\n",
    "dfFiles = pd.DataFrame(input_file)\n",
    "dfFiles.columns = ['FileName']\n",
    "dfFiles['CoinorNoCoin'] = 0\n",
    "dfFiles['Group'] = 0\n",
    "dfFiles['CoinType'] = 0\n",
    "\n",
    "dfFiles.to_csv(path_or_buf='filelist.csv',index=False)\n",
    "\n",
    "print(dfFiles)"
   ]
  },
  {
   "cell_type": "code",
   "execution_count": null,
   "metadata": {
    "collapsed": true
   },
   "outputs": [],
   "source": []
  }
 ],
 "metadata": {
  "anaconda-cloud": {},
  "kernelspec": {
   "display_name": "Python [conda root]",
   "language": "python",
   "name": "conda-root-py"
  },
  "language_info": {
   "codemirror_mode": {
    "name": "ipython",
    "version": 3
   },
   "file_extension": ".py",
   "mimetype": "text/x-python",
   "name": "python",
   "nbconvert_exporter": "python",
   "pygments_lexer": "ipython3",
   "version": "3.5.2"
  }
 },
 "nbformat": 4,
 "nbformat_minor": 1
}
