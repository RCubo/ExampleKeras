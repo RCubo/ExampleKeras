{
 "cells": [
  {
   "cell_type": "markdown",
   "metadata": {},
   "source": [
    "# Labelling\n",
    "This code creates labels.csv file given a folder with images that is used to train ConvNN for classification"
   ]
  },
  {
   "cell_type": "code",
   "execution_count": null,
   "metadata": {
    "collapsed": false
   },
   "outputs": [],
   "source": [
    "import pandas as pd\n",
    "import os\n",
    "\n",
    "def CreateLabels(InputDir, Type):\n",
    "    '''This functions creates a InputDir/labels_type.csv file from a given InputDirectory with \n",
    "    images of a given type of coin. '''\n",
    "    \n",
    "    ValidTypes = [\"2euro\", \"1euro\", \"50cent\", \"20cent\", \"10cent\", \"5cent\", \"2cent\", \"1cent\", \"Other_NoCoin\"]\n",
    "    \n",
    "    if Type not in ValidTypes:\n",
    "        print(\"Invalidt Type, use a valid type \\n\")\n",
    "        print(ValidTypes)\n",
    "        return 0\n",
    "    \n",
    "    print(\"Creating labels.csv in folder: \", InputDir,\" Assumend type: \",  Type)\n",
    "        \n",
    "    \n",
    "    CoinorNoCoin = -1\n",
    "    Group = -1\n",
    "    CoinType = -1\n",
    "    \n",
    "    if Type == \"2euro\":\n",
    "        CoinorNoCoin = 0\n",
    "        Group = 0\n",
    "        CoinType = 1\n",
    "        \n",
    "    elif Type == \"1euro\":\n",
    "        CoinorNoCoin = 0\n",
    "        Group = 0\n",
    "        CoinType = 0\n",
    "        \n",
    "    elif Type == \"50cent\":\n",
    "        CoinorNoCoin = 0\n",
    "        Group = 1\n",
    "        CoinType = 2\n",
    "        \n",
    "    elif Type == \"20cent\":\n",
    "        CoinorNoCoin = 0\n",
    "        Group = 1\n",
    "        CoinType = 1\n",
    "        \n",
    "    elif Type == \"10cent\":\n",
    "        CoinorNoCoin = 0\n",
    "        Group = 1\n",
    "        CoinType = 0\n",
    "        \n",
    "    elif Type == \"5cent\":\n",
    "        CoinorNoCoin = 0\n",
    "        Group = 2\n",
    "        CoinType = 2\n",
    "    \n",
    "    elif Type == \"2cent\":\n",
    "        CoinorNoCoin = 0\n",
    "        Group = 2\n",
    "        CoinType = 1\n",
    "        \n",
    "    elif Type == \"1cent\":\n",
    "        CoinorNoCoin = 0\n",
    "        Group = 2\n",
    "        CoinType = 0\n",
    "        \n",
    "    elif Type == \"Other_NoCoin\":\n",
    "        CoinorNoCoin = 1\n",
    "        Group = -1\n",
    "        CoinType = -1\n",
    "        \n",
    "    images = [InputDir+i for i in os.listdir(InputDir) if '.jpg' in i]\n",
    "    header = \"FileName,CoinorNoCoin,Group,CoinType \\n\"\n",
    "    labels_file_name = InputDir+\"/labels_\"+Type+\".csv\"\n",
    "    labels_file = open(labels_file_name, 'w')\n",
    "    labels_file.write(header)\n",
    "    for k_img in images: \n",
    "        line = k_img.split(\"/\")[-1]+\",\"+str(CoinorNoCoin)+\",\"+str(Group)+\",\"+str(CoinType)+\"\\n\"\n",
    "        #line = k_img.split(\"\\\\\")[-1]+\",\"+str(CoinorNoCoin)+\",\"+str(Group)+\",\"+str(CoinType)+\"\\n\"\n",
    "        labels_file.write(line)\n",
    "    print(labels_file_name+\" Written!! \\n\")\n",
    "    labels_file.close()\n",
    "    \n",
    "    #Test if the output file can be read as dataframe (useful for debug)\n",
    "    TestRead = True\n",
    "    if TestRead == True:\n",
    "        dfLabels = pd.read_csv(labels_file_name)\n",
    "        print(dfLabels)\n",
    "        \n",
    "#Example    \n",
    "CreateLabels(\"CandidateDataSet2/augmented_and_resized_brightness_yuv_RAW/1euro/\", \"1euro\")\n",
    "CreateLabels(\"CandidateDataSet2/augmented_and_resized_brightness_yuv_RAW/2euro/\", \"2euro\")\n",
    "CreateLabels(\"CandidateDataSet2/augmented_and_resized_brightness_yuv_RAW/50cent/\", \"50cent\")\n",
    "CreateLabels(\"CandidateDataSet2/augmented_and_resized_brightness_yuv_RAW/20cent/\", \"20cent\")\n",
    "CreateLabels(\"CandidateDataSet2/augmented_and_resized_brightness_yuv_RAW/10cent/\", \"10cent\")\n",
    "CreateLabels(\"CandidateDataSet2/augmented_and_resized_brightness_yuv_RAW/5cent/\", \"5cent\")\n",
    "CreateLabels(\"CandidateDataSet2/augmented_and_resized_brightness_yuv_RAW/2cent/\", \"2cent\")\n",
    "CreateLabels(\"CandidateDataSet2/augmented_and_resized_brightness_yuv_RAW/1cent/\", \"1cent\")"
   ]
  },
  {
   "cell_type": "markdown",
   "metadata": {
    "collapsed": true
   },
   "source": [
    "# Putting everything together"
   ]
  },
  {
   "cell_type": "code",
   "execution_count": null,
   "metadata": {
    "collapsed": true
   },
   "outputs": [],
   "source": [
    "label1eur = pd.read_csv(\"CandidateDataSet2/augmented_and_resized_brightness_yuv_RAW/1euro/labels_1euro.csv\")\n",
    "label2eur = pd.read_csv(\"CandidateDataSet2/augmented_and_resized_brightness_yuv_RAW/2euro/labels_2euro.csv\")\n",
    "\n",
    "label1eurvs2eur = [label1eur, label2eur]\n",
    "label1eurvs2eur = pd.concat(label1eurvs2eur,ignore_index=True)\n",
    "\n",
    "label1eurvs2eur.to_csv(\"CandidateDataSet2/augmented_and_resized_brightness_yuv_RAW/1euroVs2euro/labels_1euroVs2euro.csv\",index=False)\n",
    "\n",
    "label1cent = pd.read_csv(\"CandidateDataSet2/augmented_and_resized_brightness_yuv_RAW/1cent/labels_1cent.csv\")\n",
    "label2cent = pd.read_csv(\"CandidateDataSet2/augmented_and_resized_brightness_yuv_RAW/2cent/labels_2cent.csv\")\n",
    "label5cent = pd.read_csv(\"CandidateDataSet2/augmented_and_resized_brightness_yuv_RAW/5cent/labels_5cent.csv\")\n",
    "\n",
    "label1centvs2cent = [label1cent, label2cent, label5cent]\n",
    "label1centvs2cent = pd.concat(label1centvs2cent,ignore_index=True)\n",
    "\n",
    "label1centvs2cent.to_csv(\"CandidateDataSet2/augmented_and_resized_brightness_yuv_RAW/5centVs2centVs1cent/labels_5centVs2centVs1cent.csv\",index=False)\n",
    "\n",
    "label10cent = pd.read_csv(\"CandidateDataSet2/augmented_and_resized_brightness_yuv_RAW/10cent/labels_10cent.csv\")\n",
    "label20cent = pd.read_csv(\"CandidateDataSet2/augmented_and_resized_brightness_yuv_RAW/20cent/labels_20cent.csv\")\n",
    "label50cent = pd.read_csv(\"CandidateDataSet2/augmented_and_resized_brightness_yuv_RAW/50cent/labels_50cent.csv\")\n",
    "\n",
    "label10centvs20cent = [label10cent, label20cent, label50cent]\n",
    "label10centvs20cent = pd.concat(label10centvs20cent,ignore_index=True)\n",
    "\n",
    "label10centvs20cent.to_csv(\"CandidateDataSet2/augmented_and_resized_brightness_yuv_RAW/50centVs20centVs10cent/labels_50centVs20centVs10cent.csv\",index=False)"
   ]
  },
  {
   "cell_type": "code",
   "execution_count": null,
   "metadata": {
    "collapsed": false
   },
   "outputs": [],
   "source": [
    "labelall = [label1eurvs2eur, label10centvs20cent, label1centvs2cent]\n",
    "labelall = pd.concat(labelall,ignore_index=True)\n",
    "\n",
    "labelall.to_csv(\"CandidateDataSet2/augmented_and_resized_brightness_yuv_RAW/all/labels_all.csv\",index=False)"
   ]
  },
  {
   "cell_type": "code",
   "execution_count": null,
   "metadata": {
    "collapsed": false
   },
   "outputs": [],
   "source": [
    "print(labelall)"
   ]
  },
  {
   "cell_type": "code",
   "execution_count": null,
   "metadata": {
    "collapsed": true
   },
   "outputs": [],
   "source": []
  }
 ],
 "metadata": {
  "anaconda-cloud": {},
  "kernelspec": {
   "display_name": "Python [conda root]",
   "language": "python",
   "name": "conda-root-py"
  },
  "language_info": {
   "codemirror_mode": {
    "name": "ipython",
    "version": 3
   },
   "file_extension": ".py",
   "mimetype": "text/x-python",
   "name": "python",
   "nbconvert_exporter": "python",
   "pygments_lexer": "ipython3",
   "version": "3.5.2"
  }
 },
 "nbformat": 4,
 "nbformat_minor": 1
}
